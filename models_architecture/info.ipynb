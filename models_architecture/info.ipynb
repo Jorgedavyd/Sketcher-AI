{
 "cells": [
  {
   "attachments": {},
   "cell_type": "markdown",
   "metadata": {},
   "source": [
    "# Information and acknowledgements\n",
    "This code was modified from [here](https://github.com/FeliMe/multimodal_style_transfer.git) to make the sketcher, I used a modified version of it due to missconceptualizations from the [paper](https://arxiv.org/abs/1612.01895). Either way it was a time-saver for me to find this implementation, I just had to change some things, so shotout to FeliMe."
   ]
  }
 ],
 "metadata": {
  "language_info": {
   "name": "python"
  },
  "orig_nbformat": 4
 },
 "nbformat": 4,
 "nbformat_minor": 2
}
