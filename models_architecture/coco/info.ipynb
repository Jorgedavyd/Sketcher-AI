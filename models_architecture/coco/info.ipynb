{
 "cells": [
  {
   "attachments": {},
   "cell_type": "markdown",
   "metadata": {},
   "source": [
    "# COCO dataset\n",
    "In this directory you have to download the COCO  dataset [here](http://images.cocodataset.org/zips/train2017.zip), then train your model with the specified style.\n"
   ]
  }
 ],
 "metadata": {
  "language_info": {
   "name": "python"
  },
  "orig_nbformat": 4
 },
 "nbformat": 4,
 "nbformat_minor": 2
}
